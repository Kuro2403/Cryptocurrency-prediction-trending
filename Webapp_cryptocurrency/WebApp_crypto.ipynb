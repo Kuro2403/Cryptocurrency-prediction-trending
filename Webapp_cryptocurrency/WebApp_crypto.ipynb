{
 "cells": [
  {
   "cell_type": "markdown",
   "metadata": {},
   "source": [
    "# Website Application Prediction Cryptocurrency Using Flask and N8N."
   ]
  },
  {
   "cell_type": "markdown",
   "metadata": {},
   "source": [
    "## Step 1: install environment"
   ]
  },
  {
   "cell_type": "markdown",
   "metadata": {},
   "source": [
    "- Flask: Framework chính để xây dựng web app.\n",
    "- python-binance: Để kết nối và lấy dữ liệu real-time từ API Binance.\n",
    "- Postgre: Để ghi log vào database.\n",
    "- requests: Để gửi HTTP request tới webhook của n8n."
   ]
  },
  {
   "cell_type": "markdown",
   "metadata": {},
   "source": [
    "pip install flask python-binance requests"
   ]
  },
  {
   "cell_type": "code",
   "execution_count": null,
   "metadata": {
    "vscode": {
     "languageId": "plaintext"
    }
   },
   "outputs": [],
   "source": []
  }
 ],
 "metadata": {
  "language_info": {
   "name": "python"
  }
 },
 "nbformat": 4,
 "nbformat_minor": 2
}
