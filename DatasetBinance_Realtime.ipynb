{
 "cells": [
  {
   "cell_type": "markdown",
   "metadata": {},
   "source": [
    "# Pull REALTIME Cryptocurrency Prices"
   ]
  },
  {
   "cell_type": "code",
   "execution_count": 11,
   "metadata": {},
   "outputs": [],
   "source": [
    "import json\n",
    "import websocket\n",
    "# websockets là một thư viện để xây dựng máy chủ và máy khách WebSocket bằng Python\n",
    "import pandas as pd"
   ]
  },
  {
   "cell_type": "code",
   "execution_count": 12,
   "metadata": {},
   "outputs": [],
   "source": [
    "assets = ['BTCUSDT','ETHUSDT','BNBUSDT','DOGEUSDT','PEPEUSDT','XRPUSDT','SOLUSDT','AVAXUSDT','SHIBUSDT','ADAUSDT']"
   ]
  },
  {
   "cell_type": "code",
   "execution_count": 13,
   "metadata": {},
   "outputs": [
    {
     "data": {
      "text/plain": [
       "['btcusdt@kline_1m',\n",
       " 'ethusdt@kline_1m',\n",
       " 'bnbusdt@kline_1m',\n",
       " 'dogeusdt@kline_1m',\n",
       " 'pepeusdt@kline_1m',\n",
       " 'xrpusdt@kline_1m',\n",
       " 'solusdt@kline_1m',\n",
       " 'avaxusdt@kline_1m',\n",
       " 'shibusdt@kline_1m',\n",
       " 'adausdt@kline_1m']"
      ]
     },
     "execution_count": 13,
     "metadata": {},
     "output_type": "execute_result"
    }
   ],
   "source": [
    "assets = [coin.lower() + '@kline_1m' for coin in assets]\n",
    "assets\n"
   ]
  },
  {
   "cell_type": "code",
   "execution_count": 14,
   "metadata": {},
   "outputs": [
    {
     "name": "stdout",
     "output_type": "stream",
     "text": [
      "btcusdt@kline_1methusdt@kline_1mbnbusdt@kline_1mdogeusdt@kline_1mpepeusdt@kline_1mxrpusdt@kline_1msolusdt@kline_1mavaxusdt@kline_1mshibusdt@kline_1madausdt@kline_1m@kline_1m@kline_1m\n"
     ]
    }
   ],
   "source": [
    "assets = '/'.join(assets)\n",
    "assets\n",
    "# Split the string by slashes and filter out empty strings\n",
    "parts = assets.split('/')\n",
    "filtered_parts = [''.join(part.split('/')) for part in assets.split('///') if part]\n",
    "\n",
    "# Replace the required parts to match the desired format\n",
    "formatted_assets = [f\"{pair}@kline_1m@kline_1m\" for pair in filtered_parts]\n",
    "\n",
    "# Join the results with ' / ' separator\n",
    "result = '/'.join(formatted_assets)\n",
    "\n",
    "print(result)"
   ]
  },
  {
   "cell_type": "code",
   "execution_count": 15,
   "metadata": {},
   "outputs": [],
   "source": [
    "def manipulation (source):\n",
    "    rel_data = source['data']['k']['c']\n",
    "    evt_time = pd.to_datetime(source['data']['E'],unit='ms')\n",
    "    df = pd.DataFrame(rel_data, columns=[source['data']['s']], index=[evt_time])\n",
    "    df.index.name = 'timestamp'\n",
    "    df = df.astype(float)\n",
    "    df = df.reset_index()\n",
    "    print(df)\n",
    "    return df\n"
   ]
  },
  {
   "cell_type": "code",
   "execution_count": 16,
   "metadata": {},
   "outputs": [],
   "source": [
    "def on_message(ws, message): \n",
    "    global source\n",
    "    source = message\n",
    "    message = json.loads(message)\n",
    "    manipulation(message)"
   ]
  },
  {
   "cell_type": "code",
   "execution_count": 11,
   "metadata": {},
   "outputs": [
    {
     "ename": "NameError",
     "evalue": "name 'source' is not defined",
     "output_type": "error",
     "traceback": [
      "\u001b[1;31m---------------------------------------------------------------------------\u001b[0m",
      "\u001b[1;31mNameError\u001b[0m                                 Traceback (most recent call last)",
      "Cell \u001b[1;32mIn[11], line 1\u001b[0m\n\u001b[1;32m----> 1\u001b[0m \u001b[43msource\u001b[49m\n",
      "\u001b[1;31mNameError\u001b[0m: name 'source' is not defined"
     ]
    }
   ],
   "source": [
    "source"
   ]
  },
  {
   "cell_type": "markdown",
   "metadata": {},
   "source": [
    "# Cấu trúc dữ liệu:\n",
    "stream: \"bnbusdt@kline_1m\"\n",
    "\n",
    "Xác định luồng dữ liệu đang được truyền.\n",
    "- \"bnbusdt\": Cặp giao dịch Binance Coin/USDT.\n",
    "- \"@kline_1m\": Dữ liệu nến (candlestick) với khung thời gian 1 phút.\n",
    "- data: Chứa dữ liệu cụ thể của nến.\n",
    "\n",
    "# Chi tiết data:\n",
    "## Thông tin chung của sự kiện\n",
    "e: 'kline'\n",
    "- Loại sự kiện, ở đây là dữ liệu nến (candlestick).\n",
    "\n",
    "E: 1733997068108\n",
    "- Thời gian sự kiện được gửi đi (epoch time tính bằng millisecond).\n",
    "\n",
    "s: 'BNBUSDT'\n",
    "- Cặp giao dịch (Binance Coin so với USDT).\n",
    "\n",
    "# Thông tin nến (k):\n",
    "t: 1733997060000\n",
    "- Thời điểm bắt đầu của nến (epoch time tính bằng millisecond).\n",
    "\n",
    "T: 1733997119999\n",
    "- Thời điểm kết thúc của nến (epoch time tính bằng millisecond).\n",
    "\n",
    "s: 'BNBUSDT'\n",
    "- Cặp giao dịch (lặp lại thông tin từ trước).\n",
    "\n",
    "i: '1m'\n",
    "- Khung thời gian của nến (1 phút).\n",
    "\n",
    "f: 891342969\n",
    "- ID của giao dịch đầu tiên trong nến.\n",
    "\n",
    "L: 891343185\n",
    "- ID của giao dịch cuối cùng trong nến.\n",
    "\n",
    "o: '724.82000000'\n",
    "- Giá mở cửa (open price) của nến.\n",
    "\n",
    "c: '724.55000000'\n",
    "- Giá đóng cửa (close price) của nến.\n",
    "\n",
    "h: '724.83000000'\n",
    "- Giá cao nhất (high price) của nến.\n",
    "\n",
    "l: '724.55000000'\n",
    "- Giá thấp nhất (low price) của nến.\n",
    "\n",
    "v: '27.51800000'\n",
    "- Khối lượng giao dịch (volume) trong nến (số lượng BNB được giao dịch).\n",
    "\n",
    "n: 217\n",
    "- Số lượng giao dịch (number of trades) diễn ra trong nến.\n",
    "\n",
    "# x: False: \n",
    "Cờ đánh dấu liệu nến đã đóng hay chưa:\n",
    "True: Nến đã đóng.\n",
    "False: Nến vẫn đang hình thành.\n",
    "\n",
    "q: '19941.75665000'\n",
    "- Khối lượng giao dịch (volume) tính theo đồng quote (USDT).\n",
    "\n",
    "V: '16.51100000'\n",
    "- Khối lượng giao dịch của các lệnh mua vào (tính theo đồng BNB).\n",
    "\n",
    "Q: '11965.17897000'\n",
    "- Khối lượng giao dịch của các lệnh mua vào (tính theo đồng quote - USDT).\n",
    "\n",
    "B: '0'\n",
    "- Giá trị \"Best bid volume\" tại thời điểm đó.\n"
   ]
  },
  {
   "cell_type": "code",
   "execution_count": 17,
   "metadata": {},
   "outputs": [
    {
     "data": {
      "text/plain": [
       "'wss://stream.binance.com:9443/stream?streams=btcusdt@kline_1m/ethusdt@kline_1m/bnbusdt@kline_1m/dogeusdt@kline_1m/pepeusdt@kline_1m/xrpusdt@kline_1m/solusdt@kline_1m/avaxusdt@kline_1m/shibusdt@kline_1m/adausdt@kline_1m'"
      ]
     },
     "execution_count": 17,
     "metadata": {},
     "output_type": "execute_result"
    }
   ],
   "source": [
    "socket = \"wss://stream.binance.com:9443/stream?streams=\" + assets\n",
    "socket"
   ]
  },
  {
   "cell_type": "code",
   "execution_count": 18,
   "metadata": {},
   "outputs": [
    {
     "name": "stdout",
     "output_type": "stream",
     "text": [
      "                timestamp  AVAXUSDT\n",
      "0 2025-03-05 13:29:17.084     20.97\n",
      "                timestamp  BTCUSDT\n",
      "0 2025-03-05 13:29:18.017  89763.7\n",
      "                timestamp  ETHUSDT\n",
      "0 2025-03-05 13:29:18.017  2211.44\n",
      "                timestamp  BNBUSDT\n",
      "0 2025-03-05 13:29:18.123   596.79\n",
      "                timestamp  PEPEUSDT\n",
      "0 2025-03-05 13:29:18.247  0.000007\n",
      "                timestamp  ADAUSDT\n",
      "0 2025-03-05 13:29:18.309   0.9802\n",
      "                timestamp  XRPUSDT\n",
      "0 2025-03-05 13:29:18.319   2.4872\n",
      "                timestamp  DOGEUSDT\n",
      "0 2025-03-05 13:29:18.592   0.20234\n",
      "                timestamp  SOLUSDT\n",
      "0 2025-03-05 13:29:18.809   145.08\n"
     ]
    },
    {
     "data": {
      "text/plain": [
       "True"
      ]
     },
     "execution_count": 18,
     "metadata": {},
     "output_type": "execute_result"
    }
   ],
   "source": [
    "ws = websocket.WebSocketApp(socket, on_message=on_message) \n",
    "# Đây là một lớp trong thư viện websocket-client dùng để quản lý kết nối WebSocket.\n",
    "# Nó cho phép thiết lập kết nối và định nghĩa các hành vi cho các sự kiện như nhận tin nhắn (on_message), kết nối thành công (on_open), hoặc xảy ra lỗi (on_error).\n",
    "ws.run_forever()"
   ]
  },
  {
   "cell_type": "markdown",
   "metadata": {},
   "source": [
    "# Filter Data datetime and export file .csv"
   ]
  },
  {
   "cell_type": "markdown",
   "metadata": {},
   "source": [
    "pip install requests pandas pandas-ta numpy"
   ]
  },
  {
   "cell_type": "code",
   "execution_count": 21,
   "metadata": {},
   "outputs": [
    {
     "name": "stdout",
     "output_type": "stream",
     "text": [
      "Fetching data for BTCUSDT...\n",
      "Fetching data for ETHUSDT...\n",
      "Fetching data for BNBUSDT...\n",
      "Fetching data for DOGEUSDT...\n",
      "Fetching data for PEPEUSDT...\n",
      "Fetching data for XRPUSDT...\n",
      "Fetching data for SOLUSDT...\n",
      "Fetching data for AVAXUSDT...\n",
      "Fetching data for SHIBUSDT...\n",
      "Fetching data for ADAUSDT...\n"
     ]
    }
   ],
   "source": [
    "import requests\n",
    "import pandas as pd\n",
    "import time\n",
    "\n",
    "# Define the assets\n",
    "assets = ['BTCUSDT', 'ETHUSDT', 'BNBUSDT', 'DOGEUSDT', 'PEPEUSDT', \n",
    "          'XRPUSDT', 'SOLUSDT', 'AVAXUSDT', 'SHIBUSDT', 'ADAUSDT']\n",
    "\n",
    "# Define the date range (UNIX timestamps in milliseconds)\n",
    "start_date = int(pd.Timestamp(\"2024-01-01\").timestamp() * 1000)\n",
    "end_date = int(pd.Timestamp(\"2024-12-12\").timestamp() * 1000)\n",
    "\n",
    "# Function to fetch kline data from Binance API\n",
    "def fetch_kline_data(symbol, interval='5m', start_time=None, end_time=None):\n",
    "    base_url = \"https://api.binance.com/api/v3/klines\"\n",
    "    params = {\n",
    "        \"symbol\": symbol,\n",
    "        \"interval\": interval,\n",
    "        \"startTime\": start_time,\n",
    "        \"endTime\": end_time,\n",
    "        \"limit\": 1000  # Maximum records per request\n",
    "    }\n",
    "    response = requests.get(base_url, params=params)\n",
    "    if response.status_code == 200:\n",
    "        return response.json()\n",
    "    else:\n",
    "        print(f\"Error fetching data for {symbol}: {response.status_code}\")\n",
    "        return []\n",
    "\n",
    "# Fetch data for all assets within the date range\n",
    "all_data = []\n",
    "for asset in assets:\n",
    "    print(f\"Fetching data for {asset}...\")\n",
    "    current_start = start_date\n",
    "    while current_start < end_date:\n",
    "        klines = fetch_kline_data(asset, start_time=current_start, end_time=end_date)\n",
    "        if not klines:\n",
    "            break\n",
    "        for kline in klines:\n",
    "            all_data.append({\n",
    "                \"symbol\": asset,\n",
    "                \"timestamp\": pd.to_datetime(kline[0], unit='ms'),\n",
    "                \"open\": float(kline[1]),\n",
    "                \"high\": float(kline[2]),\n",
    "                \"low\": float(kline[3]),\n",
    "                \"close\": float(kline[4]),\n",
    "                \"volume\": float(kline[5]),\n",
    "                # \"Number of trades\": float(kline[6]),\n",
    "                # \"Taker buy base asset volume\": float(kline[7])\n",
    "            })\n",
    "        current_start = klines[-1][0] + 1  # Move to the next time window\n",
    "        time.sleep(0.2)  # Avoid hitting rate limits\n",
    "\n",
    "# Convert to DataFrame\n",
    "df = pd.DataFrame(all_data)\n",
    "\n",
    "# Filter the DataFrame by the date range (if needed for validation)\n",
    "df = df[(df['timestamp'] >= \"2024-09-01\") & (df['timestamp'] <= \"2024-12-12\")]\n"
   ]
  },
  {
   "cell_type": "code",
   "execution_count": null,
   "metadata": {},
   "outputs": [],
   "source": [
    "# Lưu dữ liệu thành 10 tệp CSV riêng biệt\n",
    "for asset in assets:\n",
    "    df_asset = df[df[\"symbol\"] == asset]\n",
    "    file_name = f\"{asset}.csv\"\n",
    "    df_asset.to_csv(file_name, index=False)\n",
    "    print(f\"Đã lưu {file_name}\")"
   ]
  },
  {
   "cell_type": "markdown",
   "metadata": {},
   "source": [
    "## Compute Technical Indicators"
   ]
  },
  {
   "cell_type": "markdown",
   "metadata": {},
   "source": [
    "How to install Tablib\n",
    "\n",
    "step 1: Download TA-Lib C Library (Windows) - https://github.com/cgohlke/talib-build/releases\n",
    "\n",
    "step 2: Using Command: pip install C:\\Users\\Admin\\Downloads\\ta_lib-0.6.3-cp312-cp312-win_amd64.whl (Choose your dir)\n",
    "\n",
    "Note: I use Python 3.12 so if you are using another version of Python, please ask AI to find your suitable Tablib version for your Python."
   ]
  },
  {
   "cell_type": "markdown",
   "metadata": {},
   "source": [
    "pip install pandas numpy mplfinance "
   ]
  },
  {
   "cell_type": "code",
   "execution_count": null,
   "metadata": {},
   "outputs": [],
   "source": [
    "# import pandas as pd\n",
    "# import mplfinance as mpf\n",
    "# import os\n",
    "# import matplotlib.pyplot as plt\n",
    "# import talib\n",
    "\n",
    "# # Đọc dữ liệu từ file BTCUSDT.csv\n",
    "# file_path = \"BTCUSDT.csv\"\n",
    "# df = pd.read_csv(file_path)\n",
    "\n",
    "# # Chuyển đổi timestamp nếu cần thiết\n",
    "# if 'timestamp' in df.columns:\n",
    "#     df['timestamp'] = pd.to_datetime(df['timestamp'])\n",
    "#     df.set_index('timestamp', inplace=True)\n",
    "\n",
    "# # Đổi tên cột nếu cần (trường hợp cột có chữ hoa/chữ thường không đồng nhất)\n",
    "# df.columns = df.columns.str.lower()\n",
    "\n",
    "# # Kiểm tra các cột cần thiết\n",
    "# required_columns = ['open', 'high', 'low', 'close', 'volume']\n",
    "# missing_columns = [col for col in required_columns if col not in df.columns]\n",
    "# if missing_columns:\n",
    "#     raise ValueError(f\"Các cột bị thiếu trong dữ liệu: {missing_columns}\")\n",
    "\n",
    "# # Tạo thư mục lưu dataset hình ảnh\n",
    "# image_folder = \"crypto_chart_patterns\"\n",
    "# os.makedirs(image_folder, exist_ok=True)\n",
    "\n",
    "# # Số lượng mẫu cần lấy để tạo hình ảnh\n",
    "# window_size = 50  # số lượng nến trên mỗi hình\n",
    "\n",
    "# # Danh sách lưu đường dẫn hình ảnh\n",
    "# image_paths = []\n",
    "\n",
    "# # Chia dữ liệu thành các cửa sổ nhỏ để tạo hình ảnh\n",
    "# for i in range(len(df) - window_size):\n",
    "#     subset = df.iloc[i:i+window_size]\n",
    "\n",
    "#     # Vẽ biểu đồ nến\n",
    "#     fig, ax = mpf.plot(subset, type='candle', style='charles', returnfig=True)\n",
    "    \n",
    "#     # Lưu hình ảnh\n",
    "#     img_name = f\"{image_folder}/chart_{i}.png\"\n",
    "#     fig.savefig(img_name)\n",
    "#     plt.close(fig)\n",
    "#     image_paths.append(img_name)\n",
    "\n",
    "# # Hiển thị kết quả\n",
    "# image_folder\n"
   ]
  },
  {
   "cell_type": "code",
   "execution_count": 101,
   "metadata": {},
   "outputs": [
    {
     "name": "stdout",
     "output_type": "stream",
     "text": [
      "Đã tạo 2935 hình ảnh tại crypto_chart_patterns_ADA\n"
     ]
    }
   ],
   "source": [
    "import pandas as pd\n",
    "import mplfinance as mpf\n",
    "import os\n",
    "import matplotlib.pyplot as plt\n",
    "import gc  # Garbage Collector để giải phóng bộ nhớ\n",
    "\n",
    "# Đọc dữ liệu từ file BTCUSDT.csv\n",
    "file_path = \"ADAUSDT.csv\"\n",
    "df = pd.read_csv(file_path)\n",
    "\n",
    "# Chuyển đổi timestamp nếu cần thiết\n",
    "if 'timestamp' in df.columns:\n",
    "    df['timestamp'] = pd.to_datetime(df['timestamp'])\n",
    "    df.set_index('timestamp', inplace=True)\n",
    "\n",
    "# Đổi tên cột nếu cần (trường hợp cột có chữ hoa/chữ thường không đồng nhất)\n",
    "df.columns = df.columns.str.lower()\n",
    "\n",
    "# Kiểm tra các cột cần thiết\n",
    "required_columns = ['open', 'high', 'low', 'close', 'volume']\n",
    "missing_columns = [col for col in required_columns if col not in df.columns]\n",
    "if missing_columns:\n",
    "    raise ValueError(f\"Các cột bị thiếu trong dữ liệu: {missing_columns}\")\n",
    "\n",
    "# Tạo thư mục lưu dataset hình ảnh\n",
    "image_folder = \"crypto_chart_patterns_ADA\"\n",
    "os.makedirs(image_folder, exist_ok=True)\n",
    "\n",
    "# Giảm kích thước dataset để tránh lỗi bộ nhớ\n",
    "window_size = 30  # Giảm số lượng nến trên mỗi hình\n",
    "\n",
    "# Danh sách lưu đường dẫn hình ảnh\n",
    "image_paths = []\n",
    "\n",
    "# Chia dữ liệu thành các cửa sổ nhỏ để tạo hình ảnh\n",
    "for i in range(0, len(df) - window_size, 10):  # Bỏ qua mỗi 10 bước để giảm số lượng ảnh tạo ra\n",
    "    subset = df.iloc[i:i+window_size]\n",
    "\n",
    "    # Vẽ biểu đồ nến\n",
    "    fig, ax = mpf.plot(subset, type='candle', style='charles', returnfig=True)\n",
    "\n",
    "    # Lưu hình ảnh\n",
    "    img_name = f\"{image_folder}/chart_{i}.png\"\n",
    "    fig.savefig(img_name)\n",
    "    plt.close(fig)  # Giải phóng bộ nhớ sau khi lưu ảnh\n",
    "    gc.collect()  # Gọi garbage collector để giải phóng bộ nhớ\n",
    "\n",
    "    image_paths.append(img_name)\n",
    "\n",
    "print(f\"Đã tạo {len(image_paths)} hình ảnh tại {image_folder}\")\n"
   ]
  },
  {
   "cell_type": "markdown",
   "metadata": {},
   "source": [
    "## Detect Candlestick Patterns by using Talib"
   ]
  },
  {
   "cell_type": "markdown",
   "metadata": {},
   "source": [
    "Cách hoạt động của TA-Lib trong phát hiện Candlestick Patterns\n",
    "\n",
    "TA-Lib trả về giá trị 0, 100, hoặc -100:\n",
    "\n",
    "100: Mô hình xuất hiện và có xu hướng tăng giá.\n",
    "\n",
    "-100: Mô hình xuất hiện và có xu hướng giảm giá.\n",
    "\n",
    "0: Không có mô hình nào xuất hiện."
   ]
  },
  {
   "cell_type": "markdown",
   "metadata": {},
   "source": [
    "Sử dụng dữ liệu giao dịch từ BTCUSDT.csv và các hàm TA‑Lib để phát hiện các mẫu nến (candlestick patterns). Sau đó, ánh xạ khoảng dữ liệu tương ứng với mỗi hình ảnh được tạo ra từ thư mục crypto_chart_patterns và gán nhãn cho từng ảnh vào file CSV (crypto_chart_patterns_labels.csv).\n",
    "\n",
    "Quy trình thực hiện:\n",
    "\n",
    "- Đọc dữ liệu và xử lý (timestamp, lowercase các cột).\n",
    "\n",
    "- Sử dụng TA‑Lib để phát hiện các mẫu nến và thêm kết quả vào DataFrame.\n",
    "\n",
    "- Lấy danh sách các hình ảnh đã tạo và sắp xếp chúng theo thứ tự.\n",
    "\n",
    "- Với mỗi hình ảnh, xác định subset dữ liệu tương ứng dựa trên window_size và bước nhảy.\n",
    "\n",
    "- Quét qua subset để phát hiện các mẫu nến, gộp các nhãn lại hoặc gán \"No Pattern\" nếu không tìm thấy mẫu nào.\n",
    "\n",
    "- Ghi thông tin ảnh và nhãn vào file CSV để làm dataset nhãn cho quá trình huấn luyện mô hình sau này."
   ]
  },
  {
   "cell_type": "markdown",
   "metadata": {},
   "source": [
    "## Sort lại hình ảnh khi lưu trong file csv.\n",
    "\n",
    "- Hiện tượng này xảy ra do sorted() trong Python đang sắp xếp tên file theo thứ tự từ điển (lexicographical) thay vì theo giá trị số. Kết quả là \"chart_100.png\" được coi là nhỏ hơn \"chart_2.png\" vì \"1\" < \"2\" khi so sánh chuỗi."
   ]
  },
  {
   "cell_type": "code",
   "execution_count": 118,
   "metadata": {},
   "outputs": [
    {
     "name": "stdout",
     "output_type": "stream",
     "text": [
      "Đã tạo file nhãn dataset: crypto_chart_patterns_labels_ADA.csv\n",
      "                                  image_name  \\\n",
      "0      crypto_chart_patterns_ADA/chart_0.png   \n",
      "1     crypto_chart_patterns_ADA/chart_10.png   \n",
      "1112  crypto_chart_patterns_ADA/chart_20.png   \n",
      "2158  crypto_chart_patterns_ADA/chart_30.png   \n",
      "2269  crypto_chart_patterns_ADA/chart_40.png   \n",
      "2380  crypto_chart_patterns_ADA/chart_50.png   \n",
      "2491  crypto_chart_patterns_ADA/chart_60.png   \n",
      "2602  crypto_chart_patterns_ADA/chart_70.png   \n",
      "2713  crypto_chart_patterns_ADA/chart_80.png   \n",
      "2824  crypto_chart_patterns_ADA/chart_90.png   \n",
      "\n",
      "                                                label  \n",
      "0          Bearish_Engulfing|Harami|Bullish_Engulfing  \n",
      "1     Bearish_Engulfing|Harami|Bullish_Engulfing|Doji  \n",
      "1112  Bearish_Engulfing|Harami|Bullish_Engulfing|Doji  \n",
      "2158  Bearish_Engulfing|Harami|Bullish_Engulfing|Doji  \n",
      "2269  Bearish_Engulfing|Harami|Bullish_Engulfing|Doji  \n",
      "2380  Bearish_Engulfing|Harami|Bullish_Engulfing|Doji  \n",
      "2491  Bearish_Engulfing|Harami|Bullish_Engulfing|Doji  \n",
      "2602  Bearish_Engulfing|Harami|Bullish_Engulfing|Doji  \n",
      "2713  Bearish_Engulfing|Harami|Bullish_Engulfing|Doji  \n",
      "2824  Bearish_Engulfing|Harami|Bullish_Engulfing|Doji  \n"
     ]
    }
   ],
   "source": [
    "import talib\n",
    "import pandas as pd\n",
    "import os\n",
    "import re\n",
    "\n",
    "# 1) Đọc dữ liệu CSV gốc\n",
    "file_path = \"ADAUSDT.csv\"\n",
    "df = pd.read_csv(file_path)\n",
    "\n",
    "# 2) Chuyển đổi timestamp nếu cần\n",
    "if 'timestamp' in df.columns:\n",
    "    df['timestamp'] = pd.to_datetime(df['timestamp'])\n",
    "    df.set_index('timestamp', inplace=True)\n",
    "\n",
    "df.columns = df.columns.str.lower()\n",
    "\n",
    "# 3) Phát hiện các Candlestick Patterns bằng TA-Lib\n",
    "patterns = {\n",
    "    # Bullish Reversal\n",
    "    # \"Inverted_Hammer\": talib.CDLINVERTEDHAMMER(df[\"open\"], df[\"high\"], df[\"low\"], df[\"close\"]),\n",
    "    # \"Morning_Star\": talib.CDLMORNINGSTAR(df[\"open\"], df[\"high\"], df[\"low\"], df[\"close\"]),\n",
    "    \"Bullish_Engulfing\": talib.CDLENGULFING(df[\"open\"], df[\"high\"], df[\"low\"], df[\"close\"]),\n",
    "    # Bearish Reversal\n",
    "    # \"Shooting_Star\": talib.CDLSHOOTINGSTAR(df[\"open\"], df[\"high\"], df[\"low\"], df[\"close\"]),\n",
    "    # \"Evening_Star\": talib.CDLEVENINGSTAR(df[\"open\"], df[\"high\"], df[\"low\"], df[\"close\"]),\n",
    "    \"Bearish_Engulfing\": -talib.CDLENGULFING(df[\"open\"], df[\"high\"], df[\"low\"], df[\"close\"]),\n",
    "    # Additional Patterns (bạn có thể bật lại nếu cần)\n",
    "    \"Doji\": talib.CDLDOJI(df[\"open\"], df[\"high\"], df[\"low\"], df[\"close\"]),\n",
    "    \"Harami\": talib.CDLHARAMI(df[\"open\"], df[\"high\"], df[\"low\"], df[\"close\"]),\n",
    "    # \"Hammer\": talib.CDLHAMMER(df[\"open\"], df[\"high\"], df[\"low\"], df[\"close\"]),\n",
    "}\n",
    "\n",
    "for pattern, values in patterns.items():\n",
    "    df[pattern] = values\n",
    "\n",
    "# 4) Lấy danh sách file ảnh (chưa sorted)\n",
    "image_folder = \"crypto_chart_patterns_ADA\"\n",
    "image_files = os.listdir(image_folder)\n",
    "\n",
    "# 5) Tạo file nhãn (CSV) - CHƯA SẮP XẾP TÊN FILE\n",
    "label_file = \"crypto_chart_patterns_labels_ADA.csv\"\n",
    "with open(label_file, \"w\") as f:\n",
    "    f.write(\"image_name,label\\n\")\n",
    "    for i, img_name in enumerate(image_files):\n",
    "        start_idx = i * 10\n",
    "        if start_idx >= len(df):\n",
    "            break\n",
    "        subset = df.iloc[start_idx:start_idx + 30]\n",
    "\n",
    "        detected_labels = set()\n",
    "        for _, row in subset.iterrows():\n",
    "            for pattern in patterns.keys():\n",
    "                if row[pattern] != 0:\n",
    "                    detected_labels.add(pattern)\n",
    "\n",
    "        # Nếu không phát hiện được pattern nào, bỏ qua mẫu này (không ghi \"No Pattern\")\n",
    "        if not detected_labels:\n",
    "            continue\n",
    "\n",
    "        label_str = \"|\".join(detected_labels)\n",
    "        f.write(f\"{image_folder}/{img_name},{label_str}\\n\")\n",
    "\n",
    "print(f\"Đã tạo file nhãn dataset: {label_file}\")\n",
    "\n",
    "# ----------------------------------------------------------\n",
    "# 6) ĐỌC LẠI FILE CSV VÀ SẮP XẾP THEO SỐ TRONG TÊN FILE\n",
    "# ----------------------------------------------------------\n",
    "\n",
    "# Hàm tách số ra từ tên file, ví dụ: \"chart_123.png\" -> 123\n",
    "def extract_number_from_path(path):\n",
    "    match = re.search(r'chart_(\\d+)', path)\n",
    "    if match:\n",
    "        return int(match.group(1))\n",
    "    return 0\n",
    "\n",
    "# Đọc lại file CSV vào DataFrame\n",
    "labels_df = pd.read_csv(label_file)\n",
    "\n",
    "# Tạo cột tạm \"sort_key\" để sắp xếp\n",
    "labels_df['sort_key'] = labels_df['image_name'].apply(extract_number_from_path)\n",
    "\n",
    "# Sắp xếp theo \"sort_key\" và xóa cột tạm\n",
    "labels_df = labels_df.sort_values('sort_key').drop(columns='sort_key')\n",
    "\n",
    "# Ghi đè lại file CSV đã được sắp xếp\n",
    "labels_df.to_csv(label_file, index=False)\n",
    "\n",
    "# Kiểm tra vài dòng đầu sau khi sắp xếp\n",
    "print(labels_df.head(10))\n"
   ]
  },
  {
   "cell_type": "code",
   "execution_count": 116,
   "metadata": {},
   "outputs": [
    {
     "name": "stdout",
     "output_type": "stream",
     "text": [
      "Bearish_Engulfing: 2928\n",
      "Harami: 2842\n",
      "Bullish_Engulfing: 2928\n",
      "Doji: 2860\n",
      "Tổng số pattern duy nhất: 4\n"
     ]
    }
   ],
   "source": [
    "import pandas as pd\n",
    "\n",
    "# Đọc file CSV chứa nhãn\n",
    "label_file = \"crypto_chart_patterns_labels_BNB.csv\"\n",
    "df = pd.read_csv(label_file)\n",
    "\n",
    "# Tạo dictionary để đếm số lần xuất hiện của mỗi pattern\n",
    "pattern_counts = {}\n",
    "\n",
    "for label_str in df[\"label\"]:\n",
    "    # Nếu nhãn là \"No Pattern\", ta vẫn đếm\n",
    "    patterns = label_str.split('|')\n",
    "    for p in patterns:\n",
    "        pattern_counts[p] = pattern_counts.get(p, 0) + 1\n",
    "\n",
    "# In ra số lần xuất hiện của mỗi pattern\n",
    "for pattern, count in pattern_counts.items():\n",
    "    print(f\"{pattern}: {count}\")\n",
    "\n",
    "# Tổng số pattern duy nhất\n",
    "print(\"Tổng số pattern duy nhất:\", len(pattern_counts))\n"
   ]
  },
  {
   "cell_type": "markdown",
   "metadata": {},
   "source": [
    "- Merged 2 files for multiple-lable"
   ]
  },
  {
   "cell_type": "code",
   "execution_count": 117,
   "metadata": {},
   "outputs": [
    {
     "name": "stdout",
     "output_type": "stream",
     "text": [
      "Đã merge và lưu kết quả vào crypto_chart_patterns_labels_merged.csv\n"
     ]
    }
   ],
   "source": [
    "import pandas as pd\n",
    "\n",
    "# Đọc tệp CSV cho BTC và BNB\n",
    "df_btc = pd.read_csv(\"crypto_chart_patterns_labels_BTC.csv\")\n",
    "df_bnb = pd.read_csv(\"crypto_chart_patterns_labels_BNB.csv\")\n",
    "\n",
    "# Hợp nhất hai DataFrame lại với nhau\n",
    "df_merged = pd.concat([df_btc, df_bnb], ignore_index=True)\n",
    "\n",
    "# Lưu kết quả vào file CSV mới\n",
    "merged_file = \"crypto_chart_patterns_labels_merged.csv\"\n",
    "df_merged.to_csv(merged_file, index=False)\n",
    "\n",
    "print(f\"Đã merge và lưu kết quả vào {merged_file}\")\n"
   ]
  },
  {
   "cell_type": "code",
   "execution_count": 109,
   "metadata": {},
   "outputs": [
    {
     "name": "stdout",
     "output_type": "stream",
     "text": [
      "Bullish_Engulfing: 5861\n",
      "Doji: 5731\n",
      "Bearish_Engulfing: 5861\n",
      "Hammer: 5160\n",
      "Harami: 5680\n",
      "Tổng số pattern duy nhất: 5\n"
     ]
    }
   ],
   "source": [
    "import pandas as pd\n",
    "\n",
    "# Đọc file CSV chứa nhãn\n",
    "label_file = \"crypto_chart_patterns_labels_merged_1.csv\"\n",
    "df = pd.read_csv(label_file)\n",
    "\n",
    "# Tạo dictionary để đếm số lần xuất hiện của mỗi pattern\n",
    "pattern_counts = {}\n",
    "\n",
    "for label_str in df[\"label\"]:\n",
    "    # Nếu nhãn là \"No Pattern\", ta vẫn đếm\n",
    "    patterns = label_str.split('|')\n",
    "    for p in patterns:\n",
    "        pattern_counts[p] = pattern_counts.get(p, 0) + 1\n",
    "\n",
    "# In ra số lần xuất hiện của mỗi pattern\n",
    "for pattern, count in pattern_counts.items():\n",
    "    print(f\"{pattern}: {count}\")\n",
    "\n",
    "# Tổng số pattern duy nhất\n",
    "print(\"Tổng số pattern duy nhất:\", len(pattern_counts))\n"
   ]
  },
  {
   "cell_type": "markdown",
   "metadata": {},
   "source": [
    "# Undersampling (giảm số mẫu)\n",
    "\n",
    "- Cho các nhãn bị chiếm ưu thế, sao cho mỗi nhãn trong danh sách các majority label (No Pattern, Bullish_Engulfing, Doji, Bearish_Engulfing, Hammer, Harami) chỉ còn khoảng 500–600 mẫu."
   ]
  },
  {
   "cell_type": "code",
   "execution_count": 92,
   "metadata": {},
   "outputs": [
    {
     "name": "stdout",
     "output_type": "stream",
     "text": [
      "Bullish_Engulfing: 2933 mẫu\n",
      "Doji: 2871 mẫu\n",
      "Bearish_Engulfing: 2933 mẫu\n",
      "Hammer: 2421 mẫu\n",
      "Harami: 2838 mẫu\n",
      "Các mẫu không chứa majority label: 604\n",
      "Tổng số mẫu sau downsampling: 2171\n",
      "Bullish_Engulfing: 1505 mẫu\n",
      "Doji: 1485 mẫu\n",
      "Bearish_Engulfing: 1505 mẫu\n",
      "Hammer: 1217 mẫu\n",
      "Harami: 1463 mẫu\n",
      "Đã lưu file CSV balanced.\n"
     ]
    }
   ],
   "source": [
    "import pandas as pd\n",
    "\n",
    "# Đọc lại file CSV đã merge (hoặc file CSV ban đầu nếu có)\n",
    "df_labels = pd.read_csv(\"crypto_chart_patterns_labels_merged.csv\")\n",
    "\n",
    "# Danh sách các majority label cần giảm số mẫu\n",
    "majority_labels = [\"Bullish_Engulfing\", \"Doji\", \"Bearish_Engulfing\", \"Hammer\", \"Harami\"]\n",
    "\n",
    "# Mục tiêu: mỗi majority label chỉ còn khoảng 600 mẫu (có thể thay đổi target_count)\n",
    "target_count = 500\n",
    "\n",
    "# Tạo danh sách các DataFrame sau khi downsample cho mỗi majority label\n",
    "downsampled_list = []\n",
    "\n",
    "for label in majority_labels:\n",
    "    subset = df_labels[df_labels['label'].str.contains(label)]\n",
    "    count = len(subset)\n",
    "    print(f\"{label}: {count} mẫu\")\n",
    "    if count > target_count:\n",
    "        subset_downsampled = subset.sample(n=target_count, random_state=42)\n",
    "        downsampled_list.append(subset_downsampled)\n",
    "    else:\n",
    "        downsampled_list.append(subset)\n",
    "\n",
    "# Lấy các mẫu không chứa bất kỳ majority label nào\n",
    "others = df_labels[~df_labels['label'].str.contains(\"|\".join(majority_labels))]\n",
    "print(f\"Các mẫu không chứa majority label: {len(others)}\")\n",
    "\n",
    "# Kết hợp lại các mẫu downsample và các mẫu khác\n",
    "balanced_df = pd.concat(downsampled_list + [others]).drop_duplicates()\n",
    "\n",
    "# Kiểm tra lại số lượng mẫu sau khi cân bằng cho từng nhãn\n",
    "print(\"Tổng số mẫu sau downsampling:\", len(balanced_df))\n",
    "for label in majority_labels:\n",
    "    count_label = balanced_df['label'].str.contains(label).sum()\n",
    "    print(f\"{label}: {count_label} mẫu\")\n",
    "\n",
    "# Lưu kết quả vào file CSV mới\n",
    "balanced_df.to_csv(\"crypto_chart_patterns_labels_balanced.csv\", index=False)\n",
    "print(\"Đã lưu file CSV balanced.\")\n"
   ]
  },
  {
   "cell_type": "code",
   "execution_count": 93,
   "metadata": {},
   "outputs": [
    {
     "name": "stdout",
     "output_type": "stream",
     "text": [
      "Bullish_Engulfing: 1505\n",
      "Doji: 1485\n",
      "Bearish_Engulfing: 1505\n",
      "Hammer: 1093\n",
      "Harami: 1463\n",
      "Inverted_Hammer: 286\n",
      "Morning_Star: 267\n",
      "Shooting_Star: 550\n",
      "Evening_Star: 298\n",
      "Tổng số pattern duy nhất: 9\n"
     ]
    }
   ],
   "source": [
    "import pandas as pd\n",
    "\n",
    "# Đọc file CSV chứa nhãn\n",
    "label_file = \"crypto_chart_patterns_labels_balanced.csv\"\n",
    "df = pd.read_csv(label_file)\n",
    "\n",
    "# Tạo dictionary để đếm số lần xuất hiện của mỗi pattern\n",
    "pattern_counts = {}\n",
    "\n",
    "for label_str in df[\"label\"]:\n",
    "    # Nếu nhãn là \"No Pattern\", ta vẫn đếm\n",
    "    patterns = label_str.split('|')\n",
    "    for p in patterns:\n",
    "        pattern_counts[p] = pattern_counts.get(p, 0) + 1\n",
    "\n",
    "# In ra số lần xuất hiện của mỗi pattern\n",
    "for pattern, count in pattern_counts.items():\n",
    "    print(f\"{pattern}: {count}\")\n",
    "\n",
    "# Tổng số pattern duy nhất\n",
    "print(\"Tổng số pattern duy nhất:\", len(pattern_counts))\n"
   ]
  },
  {
   "cell_type": "code",
   "execution_count": 76,
   "metadata": {},
   "outputs": [
    {
     "data": {
      "image/png": "[encoded data removed]",
      "text/plain": [
       "<Figure size 640x480 with 1 Axes>"
      ]
     },
     "metadata": {},
     "output_type": "display_data"
    }
   ],
   "source": [
    "import matplotlib.pyplot as plt\n",
    "import matplotlib.image as mpimg\n",
    "\n",
    "# Đường dẫn tới ảnh\n",
    "image_path = \"crypto_chart_patterns/chart_0.png\"\n",
    "\n",
    "# Mở ảnh bằng matplotlib\n",
    "img = mpimg.imread(image_path)\n",
    "fig, ax = plt.subplots()\n",
    "\n",
    "# Hiển thị ảnh\n",
    "ax.imshow(img)\n",
    "\n",
    "# Giả sử bạn muốn viết chữ \"Hammer\" tại tọa độ (x=100, y=50) trên ảnh\n",
    "ax.text(100, 50, \"Hammer\", color='red', fontsize=14, backgroundcolor='white')\n",
    "\n",
    "# Lưu lại ảnh đã được “dán nhãn”\n",
    "plt.axis('off')  # Ẩn trục\n",
    "plt.savefig(\"chart_1_labeled.png\", bbox_inches='tight')\n",
    "plt.show()\n"
   ]
  },
  {
   "cell_type": "markdown",
   "metadata": {},
   "source": [
    "# Using PostgreSQL for storing data"
   ]
  },
  {
   "cell_type": "markdown",
   "metadata": {},
   "source": [
    "## Bước 1: Cài đặt thư viện cần thiết"
   ]
  },
  {
   "cell_type": "markdown",
   "metadata": {},
   "source": [
    "pip install psycopg2-binary sqlalchemy pandas"
   ]
  },
  {
   "cell_type": "markdown",
   "metadata": {},
   "source": [
    "## Bước 2: Kết nối tới PostgreSQL và tạo bảng"
   ]
  },
  {
   "cell_type": "code",
   "execution_count": 9,
   "metadata": {},
   "outputs": [],
   "source": [
    "import psycopg2\n",
    "\n",
    "# Kết nối đến PostgreSQL\n",
    "conn = psycopg2.connect(\n",
    "    dbname=\"cryptocurrency\",     # Tên cơ sở dữ liệu\n",
    "    user=\"postgres\",           # Tên người dùng\n",
    "    password=\"admin\",   # Mật khẩu\n",
    "    host=\"localhost\",           # Địa chỉ host\n",
    "    port=\"5432\"                 # Cổng (mặc định là 5432)\n",
    ")\n",
    "\n",
    "# Tạo con trỏ (cursor)\n",
    "cur = conn.cursor()\n",
    "\n",
    "# # Tạo bảng (nếu chưa có)\n",
    "# create_table_query = \"\"\"\n",
    "# CREATE TABLE IF NOT EXISTS cryptocurrency_prediction.crypto_data (\n",
    "#     symbol VARCHAR(20),\n",
    "#     timestamp BIGINT PRIMARY KEY,\n",
    "#     open DECIMAL(18, 8),\n",
    "#     high DECIMAL(18, 8),\n",
    "#     low DECIMAL(18, 8),\n",
    "#     close DECIMAL(18, 8),\n",
    "#     volume DECIMAL(18, 8)\n",
    "# );\n",
    "# \"\"\"\n",
    "# cur.execute(create_table_query)\n",
    "\n",
    "# Commit thay đổi và đóng kết nối\n",
    "conn.commit()\n",
    "cur.close()\n",
    "conn.close()\n"
   ]
  },
  {
   "cell_type": "markdown",
   "metadata": {},
   "source": [
    "## Bước 3: Đọc dữ liệu từ file .csv và chèn vào PostgreSQL"
   ]
  },
  {
   "cell_type": "code",
   "execution_count": 11,
   "metadata": {},
   "outputs": [
    {
     "name": "stdout",
     "output_type": "stream",
     "text": [
      "Dữ liệu đã được chèn thành công.\n"
     ]
    }
   ],
   "source": [
    "import pandas as pd\n",
    "import psycopg2\n",
    "\n",
    "# Đọc dữ liệu từ file .csv\n",
    "df = pd.read_csv('BTCUSDT.csv')\n",
    "\n",
    "# Chuyển đổi cột 'timestamp' thành định dạng Unix timestamp (số giây kể từ 1970-01-01)\n",
    "df['timestamp'] = pd.to_datetime(df['timestamp']).astype(int) / 10**9  # Chuyển sang số giây\n",
    "\n",
    "# Kết nối đến PostgreSQL\n",
    "conn = psycopg2.connect(\n",
    "    dbname=\"cryptocurrency\",     # Tên cơ sở dữ liệu\n",
    "    user=\"postgres\",             # Tên người dùng\n",
    "    password=\"admin\",            # Mật khẩu\n",
    "    host=\"localhost\",            # Địa chỉ host\n",
    "    port=\"5432\"                  # Cổng (mặc định là 5432)\n",
    ")\n",
    "\n",
    "# Tạo con trỏ (cursor)\n",
    "cur = conn.cursor()\n",
    "\n",
    "# Đẩy dữ liệu vào bảng\n",
    "for index, row in df.iterrows():\n",
    "    # Chèn dữ liệu vào bảng\n",
    "    insert_query = \"\"\"\n",
    "    INSERT INTO cryptocurrency_prediction.crypto_data (symbol, timestamp, open, high, low, close, volume)\n",
    "    VALUES (%s, %s, %s, %s, %s, %s, %s)\n",
    "    \"\"\"\n",
    "    cur.execute(insert_query, (row['symbol'], int(row['timestamp']), row['open'], row['high'], row['low'], row['close'], row['volume']))\n",
    "\n",
    "# Commit và đóng kết nối\n",
    "conn.commit()\n",
    "cur.close()\n",
    "conn.close()\n",
    "\n",
    "print(\"Dữ liệu đã được chèn thành công.\")\n"
   ]
  },
  {
   "cell_type": "markdown",
   "metadata": {},
   "source": [
    "## Bước 4: Kiểm tra dữ liệu đã chèn thành công"
   ]
  },
  {
   "cell_type": "markdown",
   "metadata": {},
   "source": [
    "SELECT * FROM cryptocurrency_prediction.crypto_data;"
   ]
  }
 ],
 "metadata": {
  "kernelspec": {
   "display_name": "Python 3",
   "language": "python",
   "name": "python3"
  },
  "language_info": {
   "codemirror_mode": {
    "name": "ipython",
    "version": 3
   },
   "file_extension": ".py",
   "mimetype": "text/x-python",
   "name": "python",
   "nbconvert_exporter": "python",
   "pygments_lexer": "ipython3",
   "version": "3.12.6"
  }
 },
 "nbformat": 4,
 "nbformat_minor": 2
}
